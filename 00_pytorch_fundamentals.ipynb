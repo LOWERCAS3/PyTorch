{
  "nbformat": 4,
  "nbformat_minor": 0,
  "metadata": {
    "colab": {
      "provenance": [],
      "authorship_tag": "ABX9TyOp+yBfGebMWs5HwFqX1Hel",
      "include_colab_link": true
    },
    "kernelspec": {
      "name": "python3",
      "display_name": "Python 3"
    },
    "language_info": {
      "name": "python"
    },
    "accelerator": "GPU"
  },
  "cells": [
    {
      "cell_type": "markdown",
      "metadata": {
        "id": "view-in-github",
        "colab_type": "text"
      },
      "source": [
        "<a href=\"https://colab.research.google.com/github/LOWERCAS3/PyTorch/blob/main/00_pytorch_fundamentals.ipynb\" target=\"_parent\"><img src=\"https://colab.research.google.com/assets/colab-badge.svg\" alt=\"Open In Colab\"/></a>"
      ]
    },
    {
      "cell_type": "markdown",
      "source": [
        "## 00. Pytorch Fundamentals\n",
        "Resource notebook: https://www.learnpytorch.io/00_pytorch_fundamentals/"
      ],
      "metadata": {
        "id": "X1_PQG4fYE4C"
      }
    },
    {
      "cell_type": "code",
      "source": [
        "import torch\n",
        "import pandas as pd\n",
        "import numpy as np\n",
        "import matplotlib.pyplot as plt\n",
        "print(torch.__version__)"
      ],
      "metadata": {
        "colab": {
          "base_uri": "https://localhost:8080/"
        },
        "id": "qdQJJ4MeXXq_",
        "outputId": "4ada7e17-b4b6-48aa-f9c6-b44935ffe25f"
      },
      "execution_count": null,
      "outputs": [
        {
          "output_type": "stream",
          "name": "stdout",
          "text": [
            "1.12.1+cu113\n"
          ]
        }
      ]
    },
    {
      "cell_type": "code",
      "source": [
        "# 1.12.1+cu113 \n",
        "# 1.12.1 is the version and cu113 is the cuda version\n",
        "# CUDA is what enables us to run pytorch code in Nvidia GPU/"
      ],
      "metadata": {
        "id": "vkt0EaPMZDzW"
      },
      "execution_count": null,
      "outputs": []
    },
    {
      "cell_type": "markdown",
      "source": [
        "## Introductions to tensors\n",
        "\n",
        "### Creating tensors\n",
        "#### PyTorch Tensors are  created using ```torch.Tensor()``` \n",
        "Doc: https://pytorch.org/docs/stable/tensors.html"
      ],
      "metadata": {
        "id": "rOEuPS6tYclv"
      }
    },
    {
      "cell_type": "code",
      "source": [
        "#scalar\n",
        "scalar = torch.tensor(10)\n",
        "scalar"
      ],
      "metadata": {
        "id": "EJMO9LErZqV7",
        "colab": {
          "base_uri": "https://localhost:8080/"
        },
        "outputId": "5d2cf628-4357-47a9-c293-f644debef845"
      },
      "execution_count": null,
      "outputs": [
        {
          "output_type": "execute_result",
          "data": {
            "text/plain": [
              "tensor(10)"
            ]
          },
          "metadata": {},
          "execution_count": 3
        }
      ]
    },
    {
      "cell_type": "code",
      "source": [
        "#Number of dimnesions of scalar\n",
        "scalar.ndim "
      ],
      "metadata": {
        "colab": {
          "base_uri": "https://localhost:8080/"
        },
        "id": "pt-ZsPO4h0oD",
        "outputId": "362de398-a18f-43ff-e8d5-120fda99737c"
      },
      "execution_count": null,
      "outputs": [
        {
          "output_type": "execute_result",
          "data": {
            "text/plain": [
              "0"
            ]
          },
          "metadata": {},
          "execution_count": 4
        }
      ]
    },
    {
      "cell_type": "code",
      "source": [
        "#Get tensor back as Python int\n",
        "scalar.item()"
      ],
      "metadata": {
        "colab": {
          "base_uri": "https://localhost:8080/"
        },
        "id": "qFj6cYXZiGeR",
        "outputId": "ca1fafd9-d7fa-449b-eea1-66115b491a1d"
      },
      "execution_count": null,
      "outputs": [
        {
          "output_type": "execute_result",
          "data": {
            "text/plain": [
              "10"
            ]
          },
          "metadata": {},
          "execution_count": 5
        }
      ]
    },
    {
      "cell_type": "code",
      "source": [
        "# Vector\n",
        "vector = torch.tensor([12, 11])\n",
        "vector"
      ],
      "metadata": {
        "colab": {
          "base_uri": "https://localhost:8080/"
        },
        "id": "YCzEc8CLinEg",
        "outputId": "f3db03ca-63af-4f36-caa4-054da5cd4217"
      },
      "execution_count": null,
      "outputs": [
        {
          "output_type": "execute_result",
          "data": {
            "text/plain": [
              "tensor([12, 11])"
            ]
          },
          "metadata": {},
          "execution_count": 6
        }
      ]
    },
    {
      "cell_type": "code",
      "source": [
        "#Number of dimensions of vector\n",
        "vector.ndim"
      ],
      "metadata": {
        "colab": {
          "base_uri": "https://localhost:8080/"
        },
        "id": "EYRDTaMVi0oM",
        "outputId": "92cc2daa-8295-4ab9-86b7-c180fb06af2e"
      },
      "execution_count": null,
      "outputs": [
        {
          "output_type": "execute_result",
          "data": {
            "text/plain": [
              "1"
            ]
          },
          "metadata": {},
          "execution_count": 7
        }
      ]
    },
    {
      "cell_type": "code",
      "source": [
        "vector.size()"
      ],
      "metadata": {
        "colab": {
          "base_uri": "https://localhost:8080/"
        },
        "id": "n8csSPIGi9_G",
        "outputId": "75b9c31d-2e21-487d-d99d-deb824c1aeeb"
      },
      "execution_count": null,
      "outputs": [
        {
          "output_type": "execute_result",
          "data": {
            "text/plain": [
              "torch.Size([2])"
            ]
          },
          "metadata": {},
          "execution_count": 8
        }
      ]
    },
    {
      "cell_type": "code",
      "source": [
        "vector[0]"
      ],
      "metadata": {
        "colab": {
          "base_uri": "https://localhost:8080/"
        },
        "id": "HwfE4wxDjAgp",
        "outputId": "41f3367c-75fa-4ccd-af0e-378e04fac871"
      },
      "execution_count": null,
      "outputs": [
        {
          "output_type": "execute_result",
          "data": {
            "text/plain": [
              "tensor(12)"
            ]
          },
          "metadata": {},
          "execution_count": 9
        }
      ]
    },
    {
      "cell_type": "code",
      "source": [
        "# MATRIX \n",
        "MATRIX = torch.tensor([[10, 11], [25,34]])"
      ],
      "metadata": {
        "id": "SqoS2ZbejIRU"
      },
      "execution_count": null,
      "outputs": []
    },
    {
      "cell_type": "code",
      "source": [
        "MATRIX.ndim"
      ],
      "metadata": {
        "colab": {
          "base_uri": "https://localhost:8080/"
        },
        "id": "pIxSOgDJjex_",
        "outputId": "279375cb-1f1a-4e47-cfaa-f580b186feed"
      },
      "execution_count": null,
      "outputs": [
        {
          "output_type": "execute_result",
          "data": {
            "text/plain": [
              "2"
            ]
          },
          "metadata": {},
          "execution_count": 11
        }
      ]
    },
    {
      "cell_type": "code",
      "source": [
        "MATRIX.size()"
      ],
      "metadata": {
        "colab": {
          "base_uri": "https://localhost:8080/"
        },
        "id": "no06s3H2jmS-",
        "outputId": "d845d41d-c083-42e7-efd0-ef8c70cceb03"
      },
      "execution_count": null,
      "outputs": [
        {
          "output_type": "execute_result",
          "data": {
            "text/plain": [
              "torch.Size([2, 2])"
            ]
          },
          "metadata": {},
          "execution_count": 12
        }
      ]
    },
    {
      "cell_type": "code",
      "source": [
        "MATRIX.shape"
      ],
      "metadata": {
        "colab": {
          "base_uri": "https://localhost:8080/"
        },
        "id": "cuJp8hLujqNA",
        "outputId": "046fad41-9ae6-4a08-b7cf-58322a7c18ac"
      },
      "execution_count": null,
      "outputs": [
        {
          "output_type": "execute_result",
          "data": {
            "text/plain": [
              "torch.Size([2, 2])"
            ]
          },
          "metadata": {},
          "execution_count": 13
        }
      ]
    },
    {
      "cell_type": "code",
      "source": [
        "MATRIX[1]"
      ],
      "metadata": {
        "colab": {
          "base_uri": "https://localhost:8080/"
        },
        "id": "XTy0NMHVjun5",
        "outputId": "deeec663-9585-4222-a428-eda6f36e1cef"
      },
      "execution_count": null,
      "outputs": [
        {
          "output_type": "execute_result",
          "data": {
            "text/plain": [
              "tensor([25, 34])"
            ]
          },
          "metadata": {},
          "execution_count": 14
        }
      ]
    },
    {
      "cell_type": "code",
      "source": [
        "# TENSOR\n",
        "TENSOR = torch.tensor([[[11, 23, 43], \n",
        "                        [32, 43, 32],\n",
        "                        [76, 54, 98]]])\n",
        "TENSOR"
      ],
      "metadata": {
        "colab": {
          "base_uri": "https://localhost:8080/"
        },
        "id": "_Gm3VnZPjzWC",
        "outputId": "d14cc6e8-c514-4925-a386-5d1392fe0c26"
      },
      "execution_count": null,
      "outputs": [
        {
          "output_type": "execute_result",
          "data": {
            "text/plain": [
              "tensor([[[11, 23, 43],\n",
              "         [32, 43, 32],\n",
              "         [76, 54, 98]]])"
            ]
          },
          "metadata": {},
          "execution_count": 15
        }
      ]
    },
    {
      "cell_type": "code",
      "source": [
        "TENSOR.ndim"
      ],
      "metadata": {
        "colab": {
          "base_uri": "https://localhost:8080/"
        },
        "id": "5rIOrVMPkP0t",
        "outputId": "eb2aabca-7342-4f86-dbd9-a2fd060bb69c"
      },
      "execution_count": null,
      "outputs": [
        {
          "output_type": "execute_result",
          "data": {
            "text/plain": [
              "3"
            ]
          },
          "metadata": {},
          "execution_count": 16
        }
      ]
    },
    {
      "cell_type": "code",
      "source": [
        "TENSOR.shape"
      ],
      "metadata": {
        "colab": {
          "base_uri": "https://localhost:8080/"
        },
        "id": "lV3Gt8vokqEq",
        "outputId": "e9de3cf9-f956-442b-801e-494b6964fa84"
      },
      "execution_count": null,
      "outputs": [
        {
          "output_type": "execute_result",
          "data": {
            "text/plain": [
              "torch.Size([1, 3, 3])"
            ]
          },
          "metadata": {},
          "execution_count": 17
        }
      ]
    },
    {
      "cell_type": "code",
      "source": [
        "TENSOR = torch.tensor([[[11, 23, 43], \n",
        "                        [32, 43, 32],\n",
        "                        [76, 54, 98]], \n",
        "                       [[1, 2 ,3],\n",
        "                        [4, 5, 6],\n",
        "                        [7, 8, 9]]])\n",
        "TENSOR"
      ],
      "metadata": {
        "colab": {
          "base_uri": "https://localhost:8080/"
        },
        "id": "1FIJXspwlh8i",
        "outputId": "39631279-981a-4d05-a8e6-d4a2d2a5fa89"
      },
      "execution_count": null,
      "outputs": [
        {
          "output_type": "execute_result",
          "data": {
            "text/plain": [
              "tensor([[[11, 23, 43],\n",
              "         [32, 43, 32],\n",
              "         [76, 54, 98]],\n",
              "\n",
              "        [[ 1,  2,  3],\n",
              "         [ 4,  5,  6],\n",
              "         [ 7,  8,  9]]])"
            ]
          },
          "metadata": {},
          "execution_count": 18
        }
      ]
    },
    {
      "cell_type": "code",
      "source": [
        "TENSOR.ndim"
      ],
      "metadata": {
        "colab": {
          "base_uri": "https://localhost:8080/"
        },
        "id": "h295J1F5l_D1",
        "outputId": "e1c9ccc9-1831-4750-d061-e53d08a95445"
      },
      "execution_count": null,
      "outputs": [
        {
          "output_type": "execute_result",
          "data": {
            "text/plain": [
              "3"
            ]
          },
          "metadata": {},
          "execution_count": 19
        }
      ]
    },
    {
      "cell_type": "code",
      "source": [
        "TENSOR.shape"
      ],
      "metadata": {
        "colab": {
          "base_uri": "https://localhost:8080/"
        },
        "id": "p8ucTUNlmEXs",
        "outputId": "53f392ac-31c8-4df9-f996-f502ba70bf64"
      },
      "execution_count": null,
      "outputs": [
        {
          "output_type": "execute_result",
          "data": {
            "text/plain": [
              "torch.Size([2, 3, 3])"
            ]
          },
          "metadata": {},
          "execution_count": 20
        }
      ]
    },
    {
      "cell_type": "markdown",
      "source": [
        "### Random tensors\n",
        "\n",
        "Why random tensors?\n",
        "\n",
        "Random tensors are using as a starting tensor or an input tensor for a neural network.\n",
        "These random tensor are full of random values and are adjusted by neural network after learning in order to represent data better.\n",
        "\n",
        "\n",
        "`Start with random number -> look at data -> update random numbers -> look at data -> update random numbers`\n",
        "\n",
        "Doc: https://pytorch.org/docs/stable/generated/torch.rand.html\n"
      ],
      "metadata": {
        "id": "FpmwqfKXmHNh"
      }
    },
    {
      "cell_type": "code",
      "source": [
        "# Create  a random tensor of size(4, 6) (or shape can be used interchangebly)\n",
        "random_tensor = torch.rand(3,2,4,6)\n",
        "random_tensor"
      ],
      "metadata": {
        "colab": {
          "base_uri": "https://localhost:8080/"
        },
        "id": "TUf4sKGVm1jx",
        "outputId": "db6c4369-61c0-4a95-8548-8f7591e7b473"
      },
      "execution_count": null,
      "outputs": [
        {
          "output_type": "execute_result",
          "data": {
            "text/plain": [
              "tensor([[[[0.2629, 0.2754, 0.2106, 0.4473, 0.5634, 0.9499],\n",
              "          [0.3510, 0.1103, 0.8008, 0.6465, 0.0952, 0.5989],\n",
              "          [0.5196, 0.3454, 0.7268, 0.8098, 0.6805, 0.1277],\n",
              "          [0.2057, 0.3088, 0.5268, 0.7052, 0.7075, 0.7791]],\n",
              "\n",
              "         [[0.9654, 0.1357, 0.8964, 0.6529, 0.1828, 0.6673],\n",
              "          [0.7276, 0.8909, 0.0946, 0.1160, 0.9145, 0.4932],\n",
              "          [0.2757, 0.7383, 0.8215, 0.4224, 0.2449, 0.6238],\n",
              "          [0.8681, 0.0564, 0.3423, 0.4538, 0.3515, 0.4398]]],\n",
              "\n",
              "\n",
              "        [[[0.9961, 0.7332, 0.2040, 0.5915, 0.4460, 0.0500],\n",
              "          [0.4426, 0.9863, 0.8206, 0.8415, 0.8891, 0.9306],\n",
              "          [0.7828, 0.4974, 0.7436, 0.8622, 0.7063, 0.5933],\n",
              "          [0.1384, 0.1310, 0.4684, 0.5668, 0.1109, 0.5609]],\n",
              "\n",
              "         [[0.4321, 0.5402, 0.3974, 0.6999, 0.3383, 0.6976],\n",
              "          [0.4554, 0.5968, 0.8827, 0.0596, 0.1766, 0.2090],\n",
              "          [0.5303, 0.9282, 0.9121, 0.4292, 0.2543, 0.2446],\n",
              "          [0.2491, 0.4730, 0.7989, 0.5848, 0.0198, 0.1356]]],\n",
              "\n",
              "\n",
              "        [[[0.1986, 0.6734, 0.9523, 0.5677, 0.1214, 0.8568],\n",
              "          [0.0364, 0.5401, 0.0841, 0.7443, 0.0508, 0.2188],\n",
              "          [0.3496, 0.8755, 0.2081, 0.4307, 0.6651, 0.4314],\n",
              "          [0.7481, 0.1931, 0.6573, 0.9539, 0.0508, 0.3010]],\n",
              "\n",
              "         [[0.4662, 0.4066, 0.1978, 0.5515, 0.6023, 0.0064],\n",
              "          [0.3446, 0.3662, 0.6258, 0.2162, 0.9604, 0.5842],\n",
              "          [0.6356, 0.6408, 0.7079, 0.4910, 0.4304, 0.5456],\n",
              "          [0.9189, 0.1952, 0.8953, 0.9380, 0.5488, 0.8440]]]])"
            ]
          },
          "metadata": {},
          "execution_count": 21
        }
      ]
    },
    {
      "cell_type": "markdown",
      "source": [
        "### Image tensor\n",
        "\n",
        "An image tensor is a tensor with height, width , colour channels.\n",
        "\n",
        "Height and width represents the dimensions of the image.\n",
        "\n",
        "Colour channels represents the number of colour used. eg: (R, G, B) - 3"
      ],
      "metadata": {
        "id": "pbh91X0ZsYwj"
      }
    },
    {
      "cell_type": "code",
      "source": [
        "# Create a random tensor with similar shape to an image tensor\n",
        "random_image_size_tensor = torch.rand(size=(3, 224, 224)) # colour channel, height, width\n",
        "random_image_size_tensor.shape, random_image_size_tensor.ndim"
      ],
      "metadata": {
        "colab": {
          "base_uri": "https://localhost:8080/"
        },
        "id": "sCtB1msyou3r",
        "outputId": "652414e4-9c6d-4c6b-a1db-80ad371c12c0"
      },
      "execution_count": null,
      "outputs": [
        {
          "output_type": "execute_result",
          "data": {
            "text/plain": [
              "(torch.Size([3, 224, 224]), 3)"
            ]
          },
          "metadata": {},
          "execution_count": 22
        }
      ]
    },
    {
      "cell_type": "code",
      "source": [
        "## Create a tensor of all zeros\n",
        "zeros = torch.zeros(size=(2, 3, 4))\n",
        "zeros # zero tensors are usually used to null out the values of all the values by multiplying it with a random tensor "
      ],
      "metadata": {
        "colab": {
          "base_uri": "https://localhost:8080/"
        },
        "id": "kTWUAw8ttK4a",
        "outputId": "e0eb8549-73e9-411c-97ee-85108a2a5844"
      },
      "execution_count": null,
      "outputs": [
        {
          "output_type": "execute_result",
          "data": {
            "text/plain": [
              "tensor([[[0., 0., 0., 0.],\n",
              "         [0., 0., 0., 0.],\n",
              "         [0., 0., 0., 0.]],\n",
              "\n",
              "        [[0., 0., 0., 0.],\n",
              "         [0., 0., 0., 0.],\n",
              "         [0., 0., 0., 0.]]])"
            ]
          },
          "metadata": {},
          "execution_count": 23
        }
      ]
    },
    {
      "cell_type": "code",
      "source": [
        "# Create a tensor of all ones\n",
        "ones =  torch.ones(size=(4, 2 ,2))\n",
        "ones"
      ],
      "metadata": {
        "colab": {
          "base_uri": "https://localhost:8080/"
        },
        "id": "2UbWkh9kuT6g",
        "outputId": "eb82c1e0-1ac0-4610-9024-26204c4cc9f1"
      },
      "execution_count": null,
      "outputs": [
        {
          "output_type": "execute_result",
          "data": {
            "text/plain": [
              "tensor([[[1., 1.],\n",
              "         [1., 1.]],\n",
              "\n",
              "        [[1., 1.],\n",
              "         [1., 1.]],\n",
              "\n",
              "        [[1., 1.],\n",
              "         [1., 1.]],\n",
              "\n",
              "        [[1., 1.],\n",
              "         [1., 1.]]])"
            ]
          },
          "metadata": {},
          "execution_count": 24
        }
      ]
    },
    {
      "cell_type": "markdown",
      "source": [
        "### Creating a range of tensors and tensors-like\n",
        "\n",
        "###tensor.arange\n",
        "\n",
        "`torch.arange` is used to give range (Works similar to `for i in range(0, n)`)\n",
        "\n",
        "Doc: https://pytorch.org/docs/stable/generated/torch.arange.html\n",
        "\n",
        "###tensor-like\n",
        "\n",
        "`torch.zeros_like` is used to create tensors similar in shape to one given in input\n",
        "\n",
        "There are alot of different functions for like eg full_like, ones_like, rand_like etc\n",
        "\n",
        "Doc: https://pytorch.org/docs/stable/generated/torch.zeros_like.html"
      ],
      "metadata": {
        "id": "YCVnp2Reum1r"
      }
    },
    {
      "cell_type": "code",
      "source": [
        "# Use torch.arange()\n",
        "torch.arange(0, 19)\n",
        "arange_tensor = torch.arange(start=0,end=100, step=9)\n",
        "arange_tensor"
      ],
      "metadata": {
        "colab": {
          "base_uri": "https://localhost:8080/"
        },
        "id": "YopCYyJYvBfU",
        "outputId": "e1f75091-c4b0-4f78-8e5a-4cf584ae67ba"
      },
      "execution_count": null,
      "outputs": [
        {
          "output_type": "execute_result",
          "data": {
            "text/plain": [
              "tensor([ 0,  9, 18, 27, 36, 45, 54, 63, 72, 81, 90, 99])"
            ]
          },
          "metadata": {},
          "execution_count": 73
        }
      ]
    },
    {
      "cell_type": "code",
      "source": [
        "# Create tensors like\n",
        "zero_copy = torch.zeros_like(input=arange_tensor)\n",
        "zero_copy"
      ],
      "metadata": {
        "colab": {
          "base_uri": "https://localhost:8080/"
        },
        "id": "o2zVRlP0vIhE",
        "outputId": "817d2dc1-001a-434d-85a0-11b677272461"
      },
      "execution_count": null,
      "outputs": [
        {
          "output_type": "execute_result",
          "data": {
            "text/plain": [
              "tensor([0, 0, 0, 0, 0, 0, 0, 0, 0, 0, 0, 0])"
            ]
          },
          "metadata": {},
          "execution_count": 74
        }
      ]
    },
    {
      "cell_type": "markdown",
      "source": [
        "### Tensor Datatypes\n",
        " 3 big errors for pytorch and deeplearning are:\n",
        " 1. Tensors not right datatype\n",
        " 2. Tensors not right shape\n",
        " 3. Tensors not the right device."
      ],
      "metadata": {
        "id": "n0YyBkmIyQ8N"
      }
    },
    {
      "cell_type": "code",
      "source": [
        "float_32_tensor = torch.tensor( [3.0, 4.0, 5.0],\n",
        "                                dtype = None, # What datatype is the tensor (e.g. float16 or float32)\n",
        "                                device = None,# What device is your tensor on (e.g. cuda , CPU, TPU)\n",
        "                                requires_grad = False) # Whether or not to track gradients with this tensor operations\n",
        "float_32_tensor"
      ],
      "metadata": {
        "colab": {
          "base_uri": "https://localhost:8080/"
        },
        "id": "mgaHQpHjEheZ",
        "outputId": "0ef69f1b-a69c-4446-ded6-10ab22bf8a6a"
      },
      "execution_count": null,
      "outputs": [
        {
          "output_type": "execute_result",
          "data": {
            "text/plain": [
              "tensor([3., 4., 5.])"
            ]
          },
          "metadata": {},
          "execution_count": 27
        }
      ]
    },
    {
      "cell_type": "code",
      "source": [
        "float_32_tensor.dtype"
      ],
      "metadata": {
        "colab": {
          "base_uri": "https://localhost:8080/"
        },
        "id": "Hu0KQcoKFdvZ",
        "outputId": "401bbf2d-4e39-41ff-d7dd-246c939ee96d"
      },
      "execution_count": null,
      "outputs": [
        {
          "output_type": "execute_result",
          "data": {
            "text/plain": [
              "torch.float32"
            ]
          },
          "metadata": {},
          "execution_count": 28
        }
      ]
    },
    {
      "cell_type": "code",
      "source": [
        "float_16_tensor = float_32_tensor.type(torch.float16)\n",
        "float_16_tensor"
      ],
      "metadata": {
        "colab": {
          "base_uri": "https://localhost:8080/"
        },
        "id": "j80FS96DFkTB",
        "outputId": "1fa43631-1da2-419b-c839-104011dbb301"
      },
      "execution_count": null,
      "outputs": [
        {
          "output_type": "execute_result",
          "data": {
            "text/plain": [
              "tensor([3., 4., 5.], dtype=torch.float16)"
            ]
          },
          "metadata": {},
          "execution_count": 29
        }
      ]
    },
    {
      "cell_type": "code",
      "source": [
        "float_16_tensor * float_32_tensor"
      ],
      "metadata": {
        "colab": {
          "base_uri": "https://localhost:8080/"
        },
        "id": "fEPJ8i5zHGsO",
        "outputId": "2ef067d2-192a-4024-f394-5aaf7669c239"
      },
      "execution_count": null,
      "outputs": [
        {
          "output_type": "execute_result",
          "data": {
            "text/plain": [
              "tensor([ 9., 16., 25.])"
            ]
          },
          "metadata": {},
          "execution_count": 30
        }
      ]
    },
    {
      "cell_type": "code",
      "source": [
        "int_32_tensor = torch.tensor([3, 4, 5], dtype = torch.int32)\n",
        "int_32_tensor"
      ],
      "metadata": {
        "colab": {
          "base_uri": "https://localhost:8080/"
        },
        "id": "BODvtt9YHc6C",
        "outputId": "574a4130-982b-462f-8b47-36b3cb3e539d"
      },
      "execution_count": null,
      "outputs": [
        {
          "output_type": "execute_result",
          "data": {
            "text/plain": [
              "tensor([3, 4, 5], dtype=torch.int32)"
            ]
          },
          "metadata": {},
          "execution_count": 31
        }
      ]
    },
    {
      "cell_type": "code",
      "source": [
        "float_16_tensor*int_32_tensor"
      ],
      "metadata": {
        "colab": {
          "base_uri": "https://localhost:8080/"
        },
        "id": "8uLUivP5IFLD",
        "outputId": "9dfdff2d-edf9-46c8-fcd3-98202f273062"
      },
      "execution_count": null,
      "outputs": [
        {
          "output_type": "execute_result",
          "data": {
            "text/plain": [
              "tensor([ 9., 16., 25.], dtype=torch.float16)"
            ]
          },
          "metadata": {},
          "execution_count": 32
        }
      ]
    },
    {
      "cell_type": "markdown",
      "source": [
        "### Getting information from tensor {Tensor Attribute}\n",
        "1. Tensors not right datatype - to get a datatype from tensor, can use `tensor.dtype`\n",
        "2. Tensors not right shape - to get a shape from tensor, can use `tensor.shape`\n",
        "3. Tensors not the right device. - to get device from tenson (tup, cpu, gpu), can use `tensor.device`"
      ],
      "metadata": {
        "id": "wJm8l9QlIOoD"
      }
    },
    {
      "cell_type": "code",
      "source": [
        "# Create a tensor\n",
        "some_tensor = torch.rand(3, 4)\n",
        "some_tensor"
      ],
      "metadata": {
        "colab": {
          "base_uri": "https://localhost:8080/"
        },
        "id": "aBSgkY9AJwvL",
        "outputId": "e02a4f01-ce89-4994-c306-5c51cfc10502"
      },
      "execution_count": null,
      "outputs": [
        {
          "output_type": "execute_result",
          "data": {
            "text/plain": [
              "tensor([[0.8250, 0.9532, 0.9415, 0.4576],\n",
              "        [0.2853, 0.1671, 0.8629, 0.8975],\n",
              "        [0.5290, 0.6719, 0.3951, 0.0734]])"
            ]
          },
          "metadata": {},
          "execution_count": 13
        }
      ]
    },
    {
      "cell_type": "code",
      "source": [
        "# Finding details about tensor\n",
        "some_tensor.dtype, some_tensor.device, some_tensor.shape"
      ],
      "metadata": {
        "colab": {
          "base_uri": "https://localhost:8080/"
        },
        "id": "ipum16w8J3yg",
        "outputId": "236ab180-de3e-48e9-bc96-2d1183da8096"
      },
      "execution_count": null,
      "outputs": [
        {
          "output_type": "execute_result",
          "data": {
            "text/plain": [
              "(torch.float32, device(type='cpu'), torch.Size([3, 4]))"
            ]
          },
          "metadata": {},
          "execution_count": 14
        }
      ]
    },
    {
      "cell_type": "markdown",
      "source": [
        "### Manipulating tensors {Tensor Operations}\n",
        "\n",
        "Tensor operations include:\n",
        "* Addition\n",
        "* Substraction\n",
        "* Multiplication (element-wise)\n",
        "* Division\n",
        "* Martix Multiplication"
      ],
      "metadata": {
        "id": "8D38j6IpKMEP"
      }
    },
    {
      "cell_type": "code",
      "source": [
        "# Create a tensor\n",
        "tnsr = torch.tensor([2, 3, 4])\n",
        "tnsr"
      ],
      "metadata": {
        "colab": {
          "base_uri": "https://localhost:8080/"
        },
        "id": "8yZCNc9eMbJH",
        "outputId": "bcdceed2-08fd-40f7-dd3b-f6ca8fb08d71"
      },
      "execution_count": null,
      "outputs": [
        {
          "output_type": "execute_result",
          "data": {
            "text/plain": [
              "tensor([2, 3, 4])"
            ]
          },
          "metadata": {},
          "execution_count": 35
        }
      ]
    },
    {
      "cell_type": "code",
      "source": [
        "# Adding tensor by int\n",
        "tnsr + 10"
      ],
      "metadata": {
        "colab": {
          "base_uri": "https://localhost:8080/"
        },
        "id": "SHFX-jdPMptn",
        "outputId": "28d8370a-621a-4612-887f-ec165239473c"
      },
      "execution_count": null,
      "outputs": [
        {
          "output_type": "execute_result",
          "data": {
            "text/plain": [
              "tensor([12, 13, 14])"
            ]
          },
          "metadata": {},
          "execution_count": 36
        }
      ]
    },
    {
      "cell_type": "code",
      "source": [
        "# Multiplying tensor by float\n",
        "tnsr * 10.0"
      ],
      "metadata": {
        "colab": {
          "base_uri": "https://localhost:8080/"
        },
        "id": "bWMb1geSM5X2",
        "outputId": "68bc3b4f-134f-4da9-d907-4fd97d530a0f"
      },
      "execution_count": null,
      "outputs": [
        {
          "output_type": "execute_result",
          "data": {
            "text/plain": [
              "tensor([20., 30., 40.])"
            ]
          },
          "metadata": {},
          "execution_count": 37
        }
      ]
    },
    {
      "cell_type": "code",
      "source": [
        "# Subtracting tensor by int\n",
        "tnsr - 1"
      ],
      "metadata": {
        "colab": {
          "base_uri": "https://localhost:8080/"
        },
        "id": "i1Lrw8UOM-8j",
        "outputId": "f8a8a328-3285-446c-95b8-0b1054a705c4"
      },
      "execution_count": null,
      "outputs": [
        {
          "output_type": "execute_result",
          "data": {
            "text/plain": [
              "tensor([1, 2, 3])"
            ]
          },
          "metadata": {},
          "execution_count": 38
        }
      ]
    },
    {
      "cell_type": "code",
      "source": [
        "# PyTorch build-in function\n",
        "torch.mul(tnsr, 10)"
      ],
      "metadata": {
        "colab": {
          "base_uri": "https://localhost:8080/"
        },
        "id": "RDrt2lu_NFpj",
        "outputId": "eab80806-816c-4ffb-a900-11e3c91be367"
      },
      "execution_count": null,
      "outputs": [
        {
          "output_type": "execute_result",
          "data": {
            "text/plain": [
              "tensor([20, 30, 40])"
            ]
          },
          "metadata": {},
          "execution_count": 39
        }
      ]
    },
    {
      "cell_type": "markdown",
      "source": [
        "### Matrix multiplication\n",
        "\n",
        "Two main ways of performing multiplication in neural networks and deep learning:\n",
        "\n",
        "1. Element-wise multiplication\n",
        "2. Matrix multiplication (dot product)\n",
        "\n",
        "Two rules for matrix multiplications \n",
        "1. The **inner dimensions** must match\n",
        "2. The result will be the the shape of **outer dimension**\n"
      ],
      "metadata": {
        "id": "c_atexNkNXmp"
      }
    },
    {
      "cell_type": "code",
      "source": [
        "# Element wise multiplication\n",
        "print(tnsr, \"*\" , tnsr)\n",
        "print(f\"Equals {tnsr * tnsr}\")"
      ],
      "metadata": {
        "colab": {
          "base_uri": "https://localhost:8080/"
        },
        "id": "WfthlxYow7jH",
        "outputId": "bf72e5c5-6f2f-4f45-9034-8f1c8f4798b6"
      },
      "execution_count": null,
      "outputs": [
        {
          "output_type": "stream",
          "name": "stdout",
          "text": [
            "tensor([2, 3, 4]) * tensor([2, 3, 4])\n",
            "Equals tensor([ 4,  9, 16])\n"
          ]
        }
      ]
    },
    {
      "cell_type": "code",
      "source": [
        "# Matrix multiplication\n",
        "torch.matmul(tnsr, tnsr)"
      ],
      "metadata": {
        "colab": {
          "base_uri": "https://localhost:8080/"
        },
        "id": "CB9MJWUoxUsn",
        "outputId": "71e85ab5-4a95-4876-cdf6-fc44910089a1"
      },
      "execution_count": null,
      "outputs": [
        {
          "output_type": "execute_result",
          "data": {
            "text/plain": [
              "tensor(29)"
            ]
          },
          "metadata": {},
          "execution_count": 43
        }
      ]
    },
    {
      "cell_type": "code",
      "source": [
        "%%time\n",
        "value = 0\n",
        "for i in range(len(tnsr)):\n",
        "    value += tnsr[i] * tnsr[i]\n",
        "print(value)"
      ],
      "metadata": {
        "colab": {
          "base_uri": "https://localhost:8080/"
        },
        "id": "MSvAhg_VyLVD",
        "outputId": "c8f70249-375a-4db2-c00f-6d27854ace0f"
      },
      "execution_count": null,
      "outputs": [
        {
          "output_type": "stream",
          "name": "stdout",
          "text": [
            "tensor(29)\n",
            "CPU times: user 2.84 ms, sys: 1.08 ms, total: 3.92 ms\n",
            "Wall time: 3.11 ms\n"
          ]
        }
      ]
    },
    {
      "cell_type": "code",
      "source": [
        "%%time\n",
        "print(torch.matmul(tnsr, tnsr))"
      ],
      "metadata": {
        "colab": {
          "base_uri": "https://localhost:8080/"
        },
        "id": "fJ6DC4DCzIAV",
        "outputId": "108f47b2-5d14-41a5-8857-193dd76dd196"
      },
      "execution_count": null,
      "outputs": [
        {
          "output_type": "stream",
          "name": "stdout",
          "text": [
            "tensor(29)\n",
            "CPU times: user 677 µs, sys: 0 ns, total: 677 µs\n",
            "Wall time: 618 µs\n"
          ]
        }
      ]
    },
    {
      "cell_type": "code",
      "source": [
        "t1 = torch.rand(2,2,3)\n",
        "t1"
      ],
      "metadata": {
        "colab": {
          "base_uri": "https://localhost:8080/"
        },
        "id": "twzS-wEuzOP7",
        "outputId": "10ffb702-a3c3-43ce-98b0-16ffc4fd6675"
      },
      "execution_count": null,
      "outputs": [
        {
          "output_type": "execute_result",
          "data": {
            "text/plain": [
              "tensor([[[0.4099, 0.2166, 0.9259],\n",
              "         [0.8262, 0.1886, 0.3670]],\n",
              "\n",
              "        [[0.8499, 0.6802, 0.4195],\n",
              "         [0.0277, 0.9186, 0.4508]]])"
            ]
          },
          "metadata": {},
          "execution_count": 54
        }
      ]
    },
    {
      "cell_type": "code",
      "source": [
        "print(torch.matmul(t1, torch.rand(2,3,2)))"
      ],
      "metadata": {
        "colab": {
          "base_uri": "https://localhost:8080/"
        },
        "id": "NRqTGLefzc_v",
        "outputId": "9bc451cf-154b-4153-f0e0-bf205d32901e"
      },
      "execution_count": null,
      "outputs": [
        {
          "output_type": "stream",
          "name": "stdout",
          "text": [
            "tensor([[[0.3519, 0.5918],\n",
            "         [0.5069, 0.7797]],\n",
            "\n",
            "        [[0.6939, 1.4528],\n",
            "         [0.4070, 1.1012]]])\n"
          ]
        }
      ]
    },
    {
      "cell_type": "markdown",
      "source": [
        "### Working with shape errors"
      ],
      "metadata": {
        "id": "iO2IobGmzlQq"
      }
    },
    {
      "cell_type": "code",
      "source": [
        "tensor_A =  torch.tensor([[1, 2],\n",
        "                          [3, 4],\n",
        "                          [5, 6]])\n",
        "tensor_B = torch.tensor([[7, 10],\n",
        "                         [8, 11],\n",
        "                         [9, 12]])\n",
        "\n",
        "#torch.mm(tensor_A, tensor_B) is short-hand for torch.matmul(tensor_A, tensor_B)\n",
        "torch.matmul(tensor_A, tensor_B)"
      ],
      "metadata": {
        "colab": {
          "base_uri": "https://localhost:8080/",
          "height": 209
        },
        "id": "-LbBF9A83N0p",
        "outputId": "0617beec-69de-4907-a6bd-a05bfea06544"
      },
      "execution_count": null,
      "outputs": [
        {
          "output_type": "error",
          "ename": "RuntimeError",
          "evalue": "ignored",
          "traceback": [
            "\u001b[0;31m---------------------------------------------------------------------------\u001b[0m",
            "\u001b[0;31mRuntimeError\u001b[0m                              Traceback (most recent call last)",
            "\u001b[0;32m<ipython-input-58-12aa9e8ed00b>\u001b[0m in \u001b[0;36m<module>\u001b[0;34m\u001b[0m\n\u001b[1;32m      7\u001b[0m \u001b[0;34m\u001b[0m\u001b[0m\n\u001b[1;32m      8\u001b[0m \u001b[0;31m#torch.mm(tensor_A, tensor_B) is short-hand for torch.matmul(tensor_A, tensor_B)\u001b[0m\u001b[0;34m\u001b[0m\u001b[0;34m\u001b[0m\u001b[0;34m\u001b[0m\u001b[0m\n\u001b[0;32m----> 9\u001b[0;31m \u001b[0mtorch\u001b[0m\u001b[0;34m.\u001b[0m\u001b[0mmatmul\u001b[0m\u001b[0;34m(\u001b[0m\u001b[0mtensor_A\u001b[0m\u001b[0;34m,\u001b[0m \u001b[0mtensor_B\u001b[0m\u001b[0;34m)\u001b[0m\u001b[0;34m\u001b[0m\u001b[0;34m\u001b[0m\u001b[0m\n\u001b[0m",
            "\u001b[0;31mRuntimeError\u001b[0m: mat1 and mat2 shapes cannot be multiplied (3x2 and 3x2)"
          ]
        }
      ]
    },
    {
      "cell_type": "markdown",
      "source": [
        "### Tensor matrices can be transposed!!\n",
        "\n",
        "Transpose function in PyTorch switches the shape \n",
        "(x, y) will become (y, x)"
      ],
      "metadata": {
        "id": "Zm5Ggo0p340Y"
      }
    },
    {
      "cell_type": "code",
      "source": [
        "# Trasposing elements of tensor_B\n",
        "\n",
        "tensor_B_transposed = tensor_B.T \n",
        "tensor_B_transposed.shape"
      ],
      "metadata": {
        "colab": {
          "base_uri": "https://localhost:8080/"
        },
        "id": "AWti7SIj4h45",
        "outputId": "18087ee8-ba5a-4f18-8b51-1fd2ee0fb0d3"
      },
      "execution_count": null,
      "outputs": [
        {
          "output_type": "execute_result",
          "data": {
            "text/plain": [
              "torch.Size([2, 3])"
            ]
          },
          "metadata": {},
          "execution_count": 61
        }
      ]
    },
    {
      "cell_type": "code",
      "source": [
        "# This works because the tensor_B is transposed to match the shape of tensor tensor_A\n",
        "torch.matmul(tensor_A, tensor_B_transposed)"
      ],
      "metadata": {
        "colab": {
          "base_uri": "https://localhost:8080/"
        },
        "id": "OvcInkrV4rMj",
        "outputId": "9ea55f3b-e7ce-449f-beef-a94232699084"
      },
      "execution_count": null,
      "outputs": [
        {
          "output_type": "execute_result",
          "data": {
            "text/plain": [
              "tensor([[ 27,  30,  33],\n",
              "        [ 61,  68,  75],\n",
              "        [ 95, 106, 117]])"
            ]
          },
          "metadata": {},
          "execution_count": 63
        }
      ]
    },
    {
      "cell_type": "code",
      "source": [
        "#Visualize, Visualize, Visualize\n",
        "print(f\"Original shapes: \\ntensor_A -> {tensor_A.shape} \\ntensor_B -> {tensor_B.shape}\")\n",
        "print(f\"Transposing tensor_A since inner dimensions do not match\")\n",
        "print(f\"New shape of transposed tensor_A \\ntensor_A.T -> {tensor_A.shape}\")\n",
        "print(f\"Multiplying tensor_A.T and tensor_B\")\n",
        "print(\"Output :\")\n",
        "output = torch.matmul(tensor_A.T, tensor_B)\n",
        "print(output)\n",
        "print(f\"Shape of Output tensor -> {output.shape}\")"
      ],
      "metadata": {
        "id": "mnHt1ZNs5EDL",
        "colab": {
          "base_uri": "https://localhost:8080/"
        },
        "outputId": "b38f7d7c-f294-42c0-83dc-6ac4ad15bb61"
      },
      "execution_count": null,
      "outputs": [
        {
          "output_type": "stream",
          "name": "stdout",
          "text": [
            "Original shapes: \n",
            "tensor_A -> torch.Size([3, 2]) \n",
            "tensor_B -> torch.Size([3, 2])\n",
            "Transposing tensor_A since inner dimensions do not match\n",
            "New shape of transposed tensor_A \n",
            "tensor_A.T -> torch.Size([3, 2])\n",
            "Multiplying tensor_A.T and tensor_B\n",
            "Output :\n",
            "tensor([[ 76, 103],\n",
            "        [100, 136]])\n",
            "Shape of Output tensor -> torch.Size([2, 2])\n"
          ]
        }
      ]
    },
    {
      "cell_type": "markdown",
      "source": [
        "### Tensor Aggregation\n",
        "Finding min, max, mean, sum, etc"
      ],
      "metadata": {
        "id": "PhDcVCbh_OWw"
      }
    },
    {
      "cell_type": "code",
      "source": [
        "# Creating tensor \n",
        "x = torch.arange(0, 100, 10)\n",
        "x"
      ],
      "metadata": {
        "colab": {
          "base_uri": "https://localhost:8080/"
        },
        "id": "eIuSDV53_2Ss",
        "outputId": "a8feae26-92b2-4476-f583-8c93d3dbc833"
      },
      "execution_count": null,
      "outputs": [
        {
          "output_type": "execute_result",
          "data": {
            "text/plain": [
              "tensor([ 0, 10, 20, 30, 40, 50, 60, 70, 80, 90])"
            ]
          },
          "metadata": {},
          "execution_count": 75
        }
      ]
    },
    {
      "cell_type": "code",
      "source": [
        "# Find the min\n",
        "torch.min(x), x.min()"
      ],
      "metadata": {
        "colab": {
          "base_uri": "https://localhost:8080/"
        },
        "id": "GYQaafr5A78h",
        "outputId": "00773971-a5e5-48a3-e143-e6148e837526"
      },
      "execution_count": null,
      "outputs": [
        {
          "output_type": "execute_result",
          "data": {
            "text/plain": [
              "(tensor(0), tensor(0))"
            ]
          },
          "metadata": {},
          "execution_count": 76
        }
      ]
    },
    {
      "cell_type": "code",
      "source": [
        "# Find the max\n",
        "torch.max(x), x.max()"
      ],
      "metadata": {
        "colab": {
          "base_uri": "https://localhost:8080/"
        },
        "id": "DCzAW4QNBWsY",
        "outputId": "88f8bc7b-9233-45ed-ef73-ecda039ccbe1"
      },
      "execution_count": null,
      "outputs": [
        {
          "output_type": "execute_result",
          "data": {
            "text/plain": [
              "(tensor(90), tensor(90))"
            ]
          },
          "metadata": {},
          "execution_count": 78
        }
      ]
    },
    {
      "cell_type": "code",
      "source": [
        "# Find the sum\n",
        "torch.sum(x), x.sum()"
      ],
      "metadata": {
        "colab": {
          "base_uri": "https://localhost:8080/"
        },
        "id": "U8Zz_xQFBcCe",
        "outputId": "3fd0bef3-d03b-4e8c-e5b3-22e156ca491d"
      },
      "execution_count": null,
      "outputs": [
        {
          "output_type": "execute_result",
          "data": {
            "text/plain": [
              "(tensor(450), tensor(450))"
            ]
          },
          "metadata": {},
          "execution_count": 79
        }
      ]
    },
    {
      "cell_type": "code",
      "source": [
        "# Find the mean\n",
        "# Note:- tensor.mean() expects the tensor datatype to be float32 datatype\n",
        "print(x.dtype)\n",
        "print(x.type(torch.float32))\n",
        "torch.mean(x.type(torch.float32)).type(torch.int32), x.type(torch.float32).mean()"
      ],
      "metadata": {
        "colab": {
          "base_uri": "https://localhost:8080/"
        },
        "id": "vRozPZLNBkFF",
        "outputId": "286b3880-4f1b-43ef-bd3f-d8eb4a9c51e6"
      },
      "execution_count": null,
      "outputs": [
        {
          "output_type": "stream",
          "name": "stdout",
          "text": [
            "torch.int64\n",
            "tensor([ 0., 10., 20., 30., 40., 50., 60., 70., 80., 90.])\n"
          ]
        },
        {
          "output_type": "execute_result",
          "data": {
            "text/plain": [
              "(tensor(45, dtype=torch.int32), tensor(45.))"
            ]
          },
          "metadata": {},
          "execution_count": 82
        }
      ]
    },
    {
      "cell_type": "markdown",
      "source": [
        "### Finding position of value that is min and max"
      ],
      "metadata": {
        "id": "I00uM_dnCHPt"
      }
    },
    {
      "cell_type": "code",
      "source": [
        "x"
      ],
      "metadata": {
        "colab": {
          "base_uri": "https://localhost:8080/"
        },
        "id": "otmnxe8HDXTb",
        "outputId": "2a7e5dc1-8c08-4c2b-c6c5-16da5f907d61"
      },
      "execution_count": null,
      "outputs": [
        {
          "output_type": "execute_result",
          "data": {
            "text/plain": [
              "tensor([ 0, 10, 20, 30, 40, 50, 60, 70, 80, 90])"
            ]
          },
          "metadata": {},
          "execution_count": 84
        }
      ]
    },
    {
      "cell_type": "code",
      "source": [
        "# Finding the position in tensor that ha maximum value with argmax() -> returns the index of max element\n",
        "torch.argmax(x), x.argmax() "
      ],
      "metadata": {
        "colab": {
          "base_uri": "https://localhost:8080/"
        },
        "id": "Uksb7EVJCxCC",
        "outputId": "ad48b0cb-e028-4828-c52b-d320271c83dd"
      },
      "execution_count": null,
      "outputs": [
        {
          "output_type": "execute_result",
          "data": {
            "text/plain": [
              "(tensor(9), tensor(9))"
            ]
          },
          "metadata": {},
          "execution_count": 88
        }
      ]
    },
    {
      "cell_type": "code",
      "source": [
        "# Finding the position in tensor that has minimum value with argmin()\n",
        "torch.argmin(x), x.argmin()"
      ],
      "metadata": {
        "colab": {
          "base_uri": "https://localhost:8080/"
        },
        "id": "hKqrqrTZDVcz",
        "outputId": "1dc713d1-ea91-4732-b5a2-ba18f2ec47d3"
      },
      "execution_count": null,
      "outputs": [
        {
          "output_type": "execute_result",
          "data": {
            "text/plain": [
              "(tensor(0), tensor(0))"
            ]
          },
          "metadata": {},
          "execution_count": 91
        }
      ]
    },
    {
      "cell_type": "markdown",
      "source": [
        "## Reshaping, stacking, squeezing and unsqueezing tensors\n",
        "* Reshaping - Reshape an input tensor to a defined shape.\n",
        "* View - Return a view of an input tensor of certain shape but keep the same memory as the original tensor.\n",
        "* Stacking - Combine multiple tensors on toem of each other (vstack) or side by side (hstack).\n",
        "\n",
        "Doc -https://pytorch.org/docs/stable/generated/torch.stack.html\n",
        "* Squeeze - Remove all the `1` dimensions from a tensor.\n",
        "* Unsqueezing - Add a `1` dimension to a target tensor.\n",
        "* Permute - Return a view of the input with dimensions permuted (swapped) in a certain way."
      ],
      "metadata": {
        "id": "DBr6TBR0D0hz"
      }
    },
    {
      "cell_type": "code",
      "source": [
        "# Creating a tensor\n",
        "import torch\n",
        "x = torch.arange(1., 10., 1)\n",
        "x"
      ],
      "metadata": {
        "colab": {
          "base_uri": "https://localhost:8080/"
        },
        "id": "v1Lccsy5LIR5",
        "outputId": "c5d1bb88-6800-418e-e44f-2a3bf03598bf"
      },
      "execution_count": null,
      "outputs": [
        {
          "output_type": "execute_result",
          "data": {
            "text/plain": [
              "tensor([1., 2., 3., 4., 5., 6., 7., 8., 9.])"
            ]
          },
          "metadata": {},
          "execution_count": 95
        }
      ]
    },
    {
      "cell_type": "code",
      "source": [
        "# Add an extra dimension\n",
        "# The below example reshapes/divides 3 matrices each with 3 elements\n",
        "# Just applying the reshape doesnot changes the original tensor but rather give the o/p as the changed tensor.\n",
        "x_reshaped = x.reshape(3, 3)\n",
        "x_reshaped, x_reshaped.shape"
      ],
      "metadata": {
        "colab": {
          "base_uri": "https://localhost:8080/"
        },
        "id": "3a4tKw01LT1R",
        "outputId": "e4804618-dc40-41af-bc1d-8f63253e67e7"
      },
      "execution_count": null,
      "outputs": [
        {
          "output_type": "execute_result",
          "data": {
            "text/plain": [
              "(tensor([[1., 2., 3.],\n",
              "         [4., 5., 6.],\n",
              "         [7., 8., 9.]]), torch.Size([3, 3]))"
            ]
          },
          "metadata": {},
          "execution_count": 102
        }
      ]
    },
    {
      "cell_type": "code",
      "source": [
        "# Change the view\n",
        "z = x.view(1, 9)\n",
        "z, z.shape"
      ],
      "metadata": {
        "colab": {
          "base_uri": "https://localhost:8080/"
        },
        "id": "Zj8jrLKrLTy5",
        "outputId": "08859462-5004-4b03-aae8-e47089442737"
      },
      "execution_count": null,
      "outputs": [
        {
          "output_type": "execute_result",
          "data": {
            "text/plain": [
              "(tensor([[1., 2., 3., 4., 5., 6., 7., 8., 9.]]), torch.Size([1, 9]))"
            ]
          },
          "metadata": {},
          "execution_count": 104
        }
      ]
    },
    {
      "cell_type": "code",
      "source": [
        "# Changing a view of a tensor changes the original tensor (because a view of tensor shares the same memory as the original input)\n",
        "z [:, 0] = 5\n",
        "print(f\"{z, x}\")\n",
        "z[:, 0] = 1"
      ],
      "metadata": {
        "colab": {
          "base_uri": "https://localhost:8080/"
        },
        "id": "YX8VmHFgLTwC",
        "outputId": "56b11497-6365-4062-a450-778b3afd19c2"
      },
      "execution_count": null,
      "outputs": [
        {
          "output_type": "stream",
          "name": "stdout",
          "text": [
            "(tensor([[5., 2., 3., 4., 5., 6., 7., 8., 9.]]), tensor([5., 2., 3., 4., 5., 6., 7., 8., 9.]))\n"
          ]
        }
      ]
    },
    {
      "cell_type": "code",
      "source": [
        "# Stack tensors on top of each other\n",
        "x_stacked = torch.stack([x, x, x, x, x], dim=1)\n",
        "x_stacked"
      ],
      "metadata": {
        "colab": {
          "base_uri": "https://localhost:8080/"
        },
        "id": "lPwsa1eELSgr",
        "outputId": "300beb77-d058-4789-a0b8-0b90ea291685"
      },
      "execution_count": null,
      "outputs": [
        {
          "output_type": "execute_result",
          "data": {
            "text/plain": [
              "tensor([[1., 1., 1., 1., 1.],\n",
              "        [2., 2., 2., 2., 2.],\n",
              "        [3., 3., 3., 3., 3.],\n",
              "        [4., 4., 4., 4., 4.],\n",
              "        [5., 5., 5., 5., 5.],\n",
              "        [6., 6., 6., 6., 6.],\n",
              "        [7., 7., 7., 7., 7.],\n",
              "        [8., 8., 8., 8., 8.],\n",
              "        [9., 9., 9., 9., 9.]])"
            ]
          },
          "metadata": {},
          "execution_count": 119
        }
      ]
    },
    {
      "cell_type": "code",
      "source": [
        "# torch.squeeze() - removes all single dimensions from a single tensor\n",
        "x_reshaped = x.reshape(1, 9)\n",
        "print(f\"Previous tensor: {x_reshaped}\")\n",
        "print(f\"Previous shape: {x_reshaped.shape}\")\n",
        "\n",
        "# Remove extra dimensions from x_reshaped\n",
        "x_squeezed = x_reshaped.squeeze()\n",
        "print(f\"\\nNew tensor: {x_squeezed}\")\n",
        "print(f\"New shape: {x_squeezed.shape}\")"
      ],
      "metadata": {
        "colab": {
          "base_uri": "https://localhost:8080/"
        },
        "id": "sKNmzfh4PtPk",
        "outputId": "b633cad1-01a7-485f-a800-6df6b9a968c5"
      },
      "execution_count": null,
      "outputs": [
        {
          "output_type": "stream",
          "name": "stdout",
          "text": [
            "Previous tensor: tensor([[1., 2., 3., 4., 5., 6., 7., 8., 9.]])\n",
            "Previous shape: torch.Size([1, 9])\n",
            "\n",
            "New tensor: tensor([1., 2., 3., 4., 5., 6., 7., 8., 9.])\n",
            "New shape: torch.Size([9])\n"
          ]
        }
      ]
    },
    {
      "cell_type": "code",
      "source": [
        "# torch.unsqueeze() - adds a single dimension to a target tensor at a specific dim (dimension)\n",
        "print(f\"Previous tensor: {x_squeezed}\")\n",
        "print(f\"Previous shape: {x_squeezed.shape}\")\n",
        "\n",
        "#Add an extra dimension in x_squeezed\n",
        "x_unsqueezed = x_squeezed.unsqueeze(dim=0)\n",
        "print(f\"\\nNew tensor: {x_unsqueezed}\")\n",
        "print(f\"New shape: {x_unsqueezed.shape}\")"
      ],
      "metadata": {
        "colab": {
          "base_uri": "https://localhost:8080/"
        },
        "id": "SlcjCX03TwMw",
        "outputId": "bdb99759-cd0b-4bd0-d23f-41a966b87187"
      },
      "execution_count": null,
      "outputs": [
        {
          "output_type": "stream",
          "name": "stdout",
          "text": [
            "Previous tensor: tensor([1., 2., 3., 4., 5., 6., 7., 8., 9.])\n",
            "Previous shape: torch.Size([9])\n",
            "\n",
            "New tensor: tensor([[1., 2., 3., 4., 5., 6., 7., 8., 9.]])\n",
            "New shape: torch.Size([1, 9])\n"
          ]
        }
      ]
    },
    {
      "cell_type": "code",
      "source": [
        "# torch.permute - rearranges the dimensions of a target tensor in a specified order (changes the view)\n",
        "x_original = torch.rand(size=(224, 224, 3)) # [height, width, colour_channels]\n",
        "\n",
        "# Permute the original tensor to rearrange the axis (or dims) order\n",
        "x_permuted = x_original.permute(2, 0, 1) # shifts axis 0->1, 1->2, 2->0\n",
        "\n",
        "print(f\"Previous shape: {x_original.shape}\")\n",
        "print(f\"New shape: {x_permuted.shape}\") # [colour_channels, height, width]"
      ],
      "metadata": {
        "colab": {
          "base_uri": "https://localhost:8080/"
        },
        "id": "Z-nTmbx3XGc9",
        "outputId": "b13a5b4d-8e84-43e3-bff5-b43dcdba07a9"
      },
      "execution_count": null,
      "outputs": [
        {
          "output_type": "stream",
          "name": "stdout",
          "text": [
            "Previous shape: torch.Size([224, 224, 3])\n",
            "New shape: torch.Size([3, 224, 224])\n"
          ]
        }
      ]
    },
    {
      "cell_type": "code",
      "source": [
        "x = torch.rand(2, 3, 5)\n",
        "x_permuted = torch.permute(x, (2, 0, 1))\n",
        "print(f\"Original tensor: \\n{x}\")\n",
        "print(f\"Permuted tensor: \\n{x_permuted}\")\n",
        "\n",
        "# Changing values in original tensor\n",
        "print(f\"Original value : {x[0, 1, 0]}\")\n",
        "x[0, 1, 0] = 1\n",
        "\n",
        "# Affect on permuted tensor\n",
        "print(f\"Permuted tensor with changed value : \\n{x_permuted}\")"
      ],
      "metadata": {
        "colab": {
          "base_uri": "https://localhost:8080/"
        },
        "id": "RA6VZNEVVAEl",
        "outputId": "3dac344d-fb2a-40c9-e3ae-ee07bc65dae4"
      },
      "execution_count": null,
      "outputs": [
        {
          "output_type": "stream",
          "name": "stdout",
          "text": [
            "Original tensor: \n",
            "tensor([[[0.6256, 0.5417, 0.1866, 0.8615, 0.4234],\n",
            "         [0.3655, 0.5875, 0.3496, 0.7192, 0.4596],\n",
            "         [0.1002, 0.4849, 0.2629, 0.1481, 0.9141]],\n",
            "\n",
            "        [[0.7432, 0.2214, 0.5051, 0.6928, 0.0265],\n",
            "         [0.3916, 0.6973, 0.0908, 0.5030, 0.1496],\n",
            "         [0.1908, 0.8493, 0.0540, 0.9255, 0.8392]]])\n",
            "Permuted tensor: \n",
            "tensor([[[0.6256, 0.3655, 0.1002],\n",
            "         [0.7432, 0.3916, 0.1908]],\n",
            "\n",
            "        [[0.5417, 0.5875, 0.4849],\n",
            "         [0.2214, 0.6973, 0.8493]],\n",
            "\n",
            "        [[0.1866, 0.3496, 0.2629],\n",
            "         [0.5051, 0.0908, 0.0540]],\n",
            "\n",
            "        [[0.8615, 0.7192, 0.1481],\n",
            "         [0.6928, 0.5030, 0.9255]],\n",
            "\n",
            "        [[0.4234, 0.4596, 0.9141],\n",
            "         [0.0265, 0.1496, 0.8392]]])\n",
            "Original value : 0.3654567003250122\n",
            "Permuted tensor with changed value : \n",
            "tensor([[[0.6256, 1.0000, 0.1002],\n",
            "         [0.7432, 0.3916, 0.1908]],\n",
            "\n",
            "        [[0.5417, 0.5875, 0.4849],\n",
            "         [0.2214, 0.6973, 0.8493]],\n",
            "\n",
            "        [[0.1866, 0.3496, 0.2629],\n",
            "         [0.5051, 0.0908, 0.0540]],\n",
            "\n",
            "        [[0.8615, 0.7192, 0.1481],\n",
            "         [0.6928, 0.5030, 0.9255]],\n",
            "\n",
            "        [[0.4234, 0.4596, 0.9141],\n",
            "         [0.0265, 0.1496, 0.8392]]])\n"
          ]
        }
      ]
    },
    {
      "cell_type": "markdown",
      "source": [
        "### Indexing in Tensors (selecting data from tensor)\n",
        "Indexing for tensors in PyTorch is similar to indexing in NumPy"
      ],
      "metadata": {
        "id": "HJgL_CqJV2Sp"
      }
    },
    {
      "cell_type": "code",
      "source": [
        "import torch\n",
        "x = torch.arange(1,19).reshape(2,3,3)\n",
        "x, x.shape"
      ],
      "metadata": {
        "colab": {
          "base_uri": "https://localhost:8080/"
        },
        "id": "FaVopIAidGe-",
        "outputId": "842c2916-d0e5-47cd-9a65-613e338540a6"
      },
      "execution_count": null,
      "outputs": [
        {
          "output_type": "execute_result",
          "data": {
            "text/plain": [
              "(tensor([[[ 1,  2,  3],\n",
              "          [ 4,  5,  6],\n",
              "          [ 7,  8,  9]],\n",
              " \n",
              "         [[10, 11, 12],\n",
              "          [13, 14, 15],\n",
              "          [16, 17, 18]]]), torch.Size([2, 3, 3]))"
            ]
          },
          "metadata": {},
          "execution_count": 161
        }
      ]
    },
    {
      "cell_type": "code",
      "source": [
        "# Let's index on outer dimension (dim=0)\n",
        "x[0]"
      ],
      "metadata": {
        "colab": {
          "base_uri": "https://localhost:8080/"
        },
        "id": "SsYeIW1cWnlM",
        "outputId": "d554d88c-d120-4ac3-8fef-aea9fdf0359f"
      },
      "execution_count": null,
      "outputs": [
        {
          "output_type": "execute_result",
          "data": {
            "text/plain": [
              "tensor([[1, 2, 3],\n",
              "        [4, 5, 6],\n",
              "        [7, 8, 9]])"
            ]
          },
          "metadata": {},
          "execution_count": 150
        }
      ]
    },
    {
      "cell_type": "code",
      "source": [
        "# Let's index on the middle dimension (dim=1)\n",
        "x[0, 0] # This can also be represent as x[0][1]"
      ],
      "metadata": {
        "colab": {
          "base_uri": "https://localhost:8080/"
        },
        "id": "725n2xH4dumX",
        "outputId": "b97f3ca6-e47d-4de0-c18e-be45e1ea1965"
      },
      "execution_count": null,
      "outputs": [
        {
          "output_type": "execute_result",
          "data": {
            "text/plain": [
              "tensor([1, 2, 3])"
            ]
          },
          "metadata": {},
          "execution_count": 154
        }
      ]
    },
    {
      "cell_type": "code",
      "source": [
        "# Let's index on the most inner dimension (dim=2)\n",
        "x[0, 0, 0]"
      ],
      "metadata": {
        "colab": {
          "base_uri": "https://localhost:8080/"
        },
        "id": "_fKOLr9Md7yZ",
        "outputId": "6c422eed-b449-4ce8-8c22-dd74ac8e1908"
      },
      "execution_count": null,
      "outputs": [
        {
          "output_type": "execute_result",
          "data": {
            "text/plain": [
              "tensor(1)"
            ]
          },
          "metadata": {},
          "execution_count": 156
        }
      ]
    },
    {
      "cell_type": "code",
      "source": [
        "# you can also use \":\" to select \"all\" of a target dimension\n",
        "x[:, 0]"
      ],
      "metadata": {
        "colab": {
          "base_uri": "https://localhost:8080/"
        },
        "id": "clwxYdAbeTJ_",
        "outputId": "c4423a37-0daf-4c8b-bfca-f8fc0d442063"
      },
      "execution_count": null,
      "outputs": [
        {
          "output_type": "execute_result",
          "data": {
            "text/plain": [
              "tensor([[ 1,  2,  3],\n",
              "        [10, 11, 12]])"
            ]
          },
          "metadata": {},
          "execution_count": 157
        }
      ]
    },
    {
      "cell_type": "code",
      "source": [
        "x[:, :, 0]"
      ],
      "metadata": {
        "colab": {
          "base_uri": "https://localhost:8080/"
        },
        "id": "rNRDynoKehma",
        "outputId": "eb5288cd-be4b-4427-9d5e-0e239ab364f3"
      },
      "execution_count": null,
      "outputs": [
        {
          "output_type": "execute_result",
          "data": {
            "text/plain": [
              "tensor([[ 1,  4,  7],\n",
              "        [10, 13, 16]])"
            ]
          },
          "metadata": {},
          "execution_count": 163
        }
      ]
    },
    {
      "cell_type": "code",
      "source": [
        "x[:, 0, 0]"
      ],
      "metadata": {
        "colab": {
          "base_uri": "https://localhost:8080/"
        },
        "id": "hCoEOkbnfGTx",
        "outputId": "895e538c-64b7-482a-bc92-06acf19d59a7"
      },
      "execution_count": null,
      "outputs": [
        {
          "output_type": "execute_result",
          "data": {
            "text/plain": [
              "tensor([ 1, 10])"
            ]
          },
          "metadata": {},
          "execution_count": 164
        }
      ]
    },
    {
      "cell_type": "code",
      "source": [
        "x[:, 2, 2]"
      ],
      "metadata": {
        "colab": {
          "base_uri": "https://localhost:8080/"
        },
        "id": "swtS4o_ofTuZ",
        "outputId": "d37171e0-672c-40c6-a6aa-da423ef6a887"
      },
      "execution_count": null,
      "outputs": [
        {
          "output_type": "execute_result",
          "data": {
            "text/plain": [
              "tensor([ 9, 18])"
            ]
          },
          "metadata": {},
          "execution_count": 167
        }
      ]
    },
    {
      "cell_type": "code",
      "source": [
        "x[:, :, 2]"
      ],
      "metadata": {
        "colab": {
          "base_uri": "https://localhost:8080/"
        },
        "id": "nmU1VXyygB1W",
        "outputId": "ffb2c851-b66e-413b-875b-be65b333bcb9"
      },
      "execution_count": null,
      "outputs": [
        {
          "output_type": "execute_result",
          "data": {
            "text/plain": [
              "tensor([[ 3,  6,  9],\n",
              "        [12, 15, 18]])"
            ]
          },
          "metadata": {},
          "execution_count": 168
        }
      ]
    },
    {
      "cell_type": "code",
      "source": [
        "x[0, 2, 2]"
      ],
      "metadata": {
        "colab": {
          "base_uri": "https://localhost:8080/"
        },
        "id": "VIcuJZ43gIJp",
        "outputId": "2f554b53-f243-48c5-fe17-2e6e24855803"
      },
      "execution_count": null,
      "outputs": [
        {
          "output_type": "execute_result",
          "data": {
            "text/plain": [
              "tensor(9)"
            ]
          },
          "metadata": {},
          "execution_count": 169
        }
      ]
    },
    {
      "cell_type": "markdown",
      "source": [
        "## PyTorch tensors & NumPy\n",
        "\n",
        "NumPy is a popular scientific Python numerical computing library.\n",
        "\n",
        "And because of this, PyTorch has functionality to interact with it.\n",
        "\n",
        "* Data in NumPy, but I want in PyTorch (or vise-versa)\n",
        " * NumPy to PyTorch -> `torch.from_numpy(ndarray)`\n",
        " * PyTorch to NumPy -> `torch.Tensor.numpy()`"
      ],
      "metadata": {
        "id": "W_6QPaVmgUic"
      }
    },
    {
      "cell_type": "code",
      "source": [
        "# NumPy array  to tensor\n",
        "import torch\n",
        "import numpy as np\n",
        "\n",
        "array = np.arange(1.0, 8.0)\n",
        "# warning: when converting from numpy -> pytorch, pytorch reflects numpy's default datatype of float64 unless specified otherwise.\n",
        "tensor = torch.from_numpy(array) \n",
        "array, tensor"
      ],
      "metadata": {
        "colab": {
          "base_uri": "https://localhost:8080/"
        },
        "id": "CuK3Vt5phpSs",
        "outputId": "79fb4c51-93f4-4ee8-909e-e1e191c28c71"
      },
      "execution_count": null,
      "outputs": [
        {
          "output_type": "execute_result",
          "data": {
            "text/plain": [
              "(array([1., 2., 3., 4., 5., 6., 7.]),\n",
              " tensor([1., 2., 3., 4., 5., 6., 7.], dtype=torch.float64))"
            ]
          },
          "metadata": {},
          "execution_count": 173
        }
      ]
    },
    {
      "cell_type": "code",
      "source": [
        "# Tensor to numpy\n",
        "tensor = torch.ones(7)\n",
        "numpy_tensor = tensor.numpy()\n",
        "tensor, numpy_tensor"
      ],
      "metadata": {
        "colab": {
          "base_uri": "https://localhost:8080/"
        },
        "id": "Mspg62-uixWj",
        "outputId": "a036ee1d-ec38-4b6d-99ec-3228a101c104"
      },
      "execution_count": null,
      "outputs": [
        {
          "output_type": "execute_result",
          "data": {
            "text/plain": [
              "(tensor([1., 1., 1., 1., 1., 1., 1.]),\n",
              " array([1., 1., 1., 1., 1., 1., 1.], dtype=float32))"
            ]
          },
          "metadata": {},
          "execution_count": 182
        }
      ]
    },
    {
      "cell_type": "markdown",
      "source": [
        "## Reproducbility (trying to take random out of random)\n",
        "\n",
        "In short how a neural network learns:\n",
        "\n",
        "`start with random numbers -> tensor operations -> update random numbers to try and make them better representations of the data -> do it again -> again -> again....`\n",
        "\n",
        "To reduce the randomness in neural network and PyTorch comes the concept of a **random seed**.\n",
        "\n",
        "Essentially what the random seed does is \"flavour\" the randomness.\n"
      ],
      "metadata": {
        "id": "muxE5gH6jzuE"
      }
    },
    {
      "cell_type": "code",
      "source": [
        "import torch\n",
        "\n",
        "# Create two random tensors\n",
        "random_tensor_A = torch.rand(3, 4)\n",
        "random_tensor_B = torch.rand(3, 4)\n",
        "\n",
        "print(random_tensor_A)\n",
        "print(random_tensor_B)\n",
        "print(random_tensor_A == random_tensor_B)"
      ],
      "metadata": {
        "colab": {
          "base_uri": "https://localhost:8080/"
        },
        "id": "beL2bx-Gm6eQ",
        "outputId": "6d5a0411-f683-40db-b71c-5d5165ac39a5"
      },
      "execution_count": null,
      "outputs": [
        {
          "output_type": "stream",
          "name": "stdout",
          "text": [
            "tensor([[0.9203, 0.0060, 0.8773, 0.3862],\n",
            "        [0.0182, 0.2687, 0.7090, 0.5380],\n",
            "        [0.0862, 0.5216, 0.1619, 0.4731]])\n",
            "tensor([[0.5605, 0.1517, 0.6777, 0.4475],\n",
            "        [0.2884, 0.6045, 0.1944, 0.7786],\n",
            "        [0.3476, 0.7724, 0.0111, 0.9925]])\n",
            "tensor([[False, False, False, False],\n",
            "        [False, False, False, False],\n",
            "        [False, False, False, False]])\n"
          ]
        }
      ]
    },
    {
      "cell_type": "code",
      "source": [
        "# Let's make some random bu reproducible tensors.\n",
        "import torch\n",
        "\n",
        "# Set a random seed\n",
        "RANDOM_SEED = 42 # This can be any random value.\n",
        "torch.manual_seed(RANDOM_SEED)\n",
        "random_tensor_C = torch.rand(3, 4)\n",
        "\n",
        "torch.manual_seed(RANDOM_SEED) # Needs to be reseeded to create same tensor(in notebook)\n",
        "random_tensor_D = torch.rand(3, 4)\n",
        "print(random_tensor_C)\n",
        "print(random_tensor_D)\n",
        "print(random_tensor_C == random_tensor_D)"
      ],
      "metadata": {
        "colab": {
          "base_uri": "https://localhost:8080/"
        },
        "id": "cGR__DminZX8",
        "outputId": "96320786-4f1d-40ae-c2d1-68f2112e8c6c"
      },
      "execution_count": null,
      "outputs": [
        {
          "output_type": "stream",
          "name": "stdout",
          "text": [
            "tensor([[0.8823, 0.9150, 0.3829, 0.9593],\n",
            "        [0.3904, 0.6009, 0.2566, 0.7936],\n",
            "        [0.9408, 0.1332, 0.9346, 0.5936]])\n",
            "tensor([[0.8823, 0.9150, 0.3829, 0.9593],\n",
            "        [0.3904, 0.6009, 0.2566, 0.7936],\n",
            "        [0.9408, 0.1332, 0.9346, 0.5936]])\n",
            "tensor([[True, True, True, True],\n",
            "        [True, True, True, True],\n",
            "        [True, True, True, True]])\n"
          ]
        }
      ]
    },
    {
      "cell_type": "markdown",
      "source": [
        "## Running PyTorch objects on the GPUs\n",
        "### Getting a GPU\n",
        "1. Use Google colab\n",
        "2. Use personal GPU setup\n",
        "3. Use cloud computing providers e.g. GCP, AWS, Azure"
      ],
      "metadata": {
        "id": "GMnJh3SWozLr"
      }
    },
    {
      "cell_type": "code",
      "source": [
        "# Checking GPU details on colab\n",
        "!nvidia-smi"
      ],
      "metadata": {
        "colab": {
          "base_uri": "https://localhost:8080/"
        },
        "id": "07g4l2RKuz0A",
        "outputId": "ef70d2e9-c8b4-48b9-c9d9-e34ad5e20dc8"
      },
      "execution_count": null,
      "outputs": [
        {
          "output_type": "stream",
          "name": "stdout",
          "text": [
            "Sun Oct  2 01:37:12 2022       \n",
            "+-----------------------------------------------------------------------------+\n",
            "| NVIDIA-SMI 460.32.03    Driver Version: 460.32.03    CUDA Version: 11.2     |\n",
            "|-------------------------------+----------------------+----------------------+\n",
            "| GPU  Name        Persistence-M| Bus-Id        Disp.A | Volatile Uncorr. ECC |\n",
            "| Fan  Temp  Perf  Pwr:Usage/Cap|         Memory-Usage | GPU-Util  Compute M. |\n",
            "|                               |                      |               MIG M. |\n",
            "|===============================+======================+======================|\n",
            "|   0  Tesla T4            Off  | 00000000:00:04.0 Off |                    0 |\n",
            "| N/A   47C    P8    10W /  70W |      0MiB / 15109MiB |      0%      Default |\n",
            "|                               |                      |                  N/A |\n",
            "+-------------------------------+----------------------+----------------------+\n",
            "                                                                               \n",
            "+-----------------------------------------------------------------------------+\n",
            "| Processes:                                                                  |\n",
            "|  GPU   GI   CI        PID   Type   Process name                  GPU Memory |\n",
            "|        ID   ID                                                   Usage      |\n",
            "|=============================================================================|\n",
            "|  No running processes found                                                 |\n",
            "+-----------------------------------------------------------------------------+\n"
          ]
        }
      ]
    },
    {
      "cell_type": "code",
      "source": [
        "# Checking GPU access for PyTorch\n",
        "import torch\n",
        "\n",
        "torch.cuda.is_available()"
      ],
      "metadata": {
        "colab": {
          "base_uri": "https://localhost:8080/"
        },
        "id": "9_zFBTcgvBB3",
        "outputId": "0e36eebb-7b13-4684-9995-c470a703ac19"
      },
      "execution_count": null,
      "outputs": [
        {
          "output_type": "execute_result",
          "data": {
            "text/plain": [
              "True"
            ]
          },
          "metadata": {},
          "execution_count": 2
        }
      ]
    },
    {
      "cell_type": "markdown",
      "source": [
        "**NOTE** --->  For PyTorch since it is capable of running compute on the GPU and CPU, it's best practice ot setup device agnostic code.\n",
        "E.g. run on GPU if available else default to CPU "
      ],
      "metadata": {
        "id": "OP5fwT43vWDy"
      }
    },
    {
      "cell_type": "code",
      "source": [
        "# Setup device agnostic code\n",
        "device = \"cuda\" if torch.cuda.is_available() else \"cpu\"\n",
        "device"
      ],
      "metadata": {
        "colab": {
          "base_uri": "https://localhost:8080/",
          "height": 36
        },
        "id": "oooyvKDsvyxg",
        "outputId": "2bacd6b8-3c7f-4413-96de-95c5d0b0c40d"
      },
      "execution_count": null,
      "outputs": [
        {
          "output_type": "execute_result",
          "data": {
            "text/plain": [
              "'cuda'"
            ],
            "application/vnd.google.colaboratory.intrinsic+json": {
              "type": "string"
            }
          },
          "metadata": {},
          "execution_count": 3
        }
      ]
    },
    {
      "cell_type": "code",
      "source": [
        "# Count number of devices\n",
        "torch.cuda.device_count()"
      ],
      "metadata": {
        "colab": {
          "base_uri": "https://localhost:8080/"
        },
        "id": "FuTVzpTbwDng",
        "outputId": "39e88192-183e-4305-a18c-5b4fa57434c1"
      },
      "execution_count": null,
      "outputs": [
        {
          "output_type": "execute_result",
          "data": {
            "text/plain": [
              "1"
            ]
          },
          "metadata": {},
          "execution_count": 4
        }
      ]
    },
    {
      "cell_type": "markdown",
      "source": [
        "### Putting tensors (and models) on the GPU\n",
        "\n",
        "The reason we want our tensors/models on the GPU is because using a GPU results in faster computations"
      ],
      "metadata": {
        "id": "Ivj5B2ohwSTt"
      }
    },
    {
      "cell_type": "code",
      "source": [
        "# Create a tensor (default on the CPU)\n",
        "tensor = torch.tensor([1, 2, 3])\n",
        "\n",
        "# Tensor not on GPU\n",
        "print(tensor, tensor.device)"
      ],
      "metadata": {
        "colab": {
          "base_uri": "https://localhost:8080/"
        },
        "id": "pygpuEAFWMoM",
        "outputId": "cbc347ad-6d0d-4600-80b6-3944c2855fe4"
      },
      "execution_count": null,
      "outputs": [
        {
          "output_type": "stream",
          "name": "stdout",
          "text": [
            "tensor([1, 2, 3]) cpu\n"
          ]
        }
      ]
    },
    {
      "cell_type": "code",
      "source": [
        "# Move tensor to GPU (if available)\n",
        "tensor_on_gpu = tensor.to(device)\n",
        "tensor_on_gpu"
      ],
      "metadata": {
        "colab": {
          "base_uri": "https://localhost:8080/"
        },
        "id": "TQ_sYqVrWk_S",
        "outputId": "28e3416f-b8b0-4244-92e5-08e046378dfe"
      },
      "execution_count": null,
      "outputs": [
        {
          "output_type": "execute_result",
          "data": {
            "text/plain": [
              "tensor([1, 2, 3], device='cuda:0')"
            ]
          },
          "metadata": {},
          "execution_count": 8
        }
      ]
    },
    {
      "cell_type": "markdown",
      "source": [
        "### Moving tensors back to GPU\n",
        "\n",
        "NumPy only works on CPU hence for the computation using NumPy, tensors are required to be moved back to CPU"
      ],
      "metadata": {
        "id": "FYdU0Rn1W7nv"
      }
    },
    {
      "cell_type": "code",
      "source": [
        "# If tensor is on GPU, can't transform it to NumPy\n",
        "tensor_on_gpu.numpy()"
      ],
      "metadata": {
        "colab": {
          "base_uri": "https://localhost:8080/",
          "height": 190
        },
        "id": "S0Jz0biIXKqJ",
        "outputId": "2fedd786-478a-47f4-ca5c-a0a9865738b9"
      },
      "execution_count": null,
      "outputs": [
        {
          "output_type": "error",
          "ename": "TypeError",
          "evalue": "ignored",
          "traceback": [
            "\u001b[0;31m---------------------------------------------------------------------------\u001b[0m",
            "\u001b[0;31mTypeError\u001b[0m                                 Traceback (most recent call last)",
            "\u001b[0;32m<ipython-input-9-b7da913938a5>\u001b[0m in \u001b[0;36m<module>\u001b[0;34m\u001b[0m\n\u001b[1;32m      1\u001b[0m \u001b[0;31m# If tensor is on GPU, can't transform it to NumPy\u001b[0m\u001b[0;34m\u001b[0m\u001b[0;34m\u001b[0m\u001b[0;34m\u001b[0m\u001b[0m\n\u001b[0;32m----> 2\u001b[0;31m \u001b[0mtensor_on_gpu\u001b[0m\u001b[0;34m.\u001b[0m\u001b[0mnumpy\u001b[0m\u001b[0;34m(\u001b[0m\u001b[0;34m)\u001b[0m\u001b[0;34m\u001b[0m\u001b[0;34m\u001b[0m\u001b[0m\n\u001b[0m",
            "\u001b[0;31mTypeError\u001b[0m: can't convert cuda:0 device type tensor to numpy. Use Tensor.cpu() to copy the tensor to host memory first."
          ]
        }
      ]
    },
    {
      "cell_type": "code",
      "source": [
        "# To fix the GPU tensor with NumPy issue, we can first set it to the CPU\n",
        "tensor_back_on_cpu = tensor_on_gpu.cpu().numpy()\n",
        "tensor_back_on_cpu"
      ],
      "metadata": {
        "colab": {
          "base_uri": "https://localhost:8080/"
        },
        "id": "vR83GJi6XKmC",
        "outputId": "fe22f9a3-f1fe-4ec0-fd88-16e0128ecfac"
      },
      "execution_count": null,
      "outputs": [
        {
          "output_type": "execute_result",
          "data": {
            "text/plain": [
              "array([1, 2, 3])"
            ]
          },
          "metadata": {},
          "execution_count": 11
        }
      ]
    },
    {
      "cell_type": "code",
      "source": [
        "tensor_on_gpu"
      ],
      "metadata": {
        "colab": {
          "base_uri": "https://localhost:8080/"
        },
        "id": "JqfDre15XKhB",
        "outputId": "e652a177-b0a5-4561-b629-d611c038e7a2"
      },
      "execution_count": null,
      "outputs": [
        {
          "output_type": "execute_result",
          "data": {
            "text/plain": [
              "tensor([1, 2, 3], device='cuda:0')"
            ]
          },
          "metadata": {},
          "execution_count": 12
        }
      ]
    },
    {
      "cell_type": "markdown",
      "source": [],
      "metadata": {
        "id": "hYzYwVe6XKVo"
      }
    }
  ]
}